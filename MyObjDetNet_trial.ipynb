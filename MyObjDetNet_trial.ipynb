{
  "nbformat": 4,
  "nbformat_minor": 0,
  "metadata": {
    "colab": {
      "name": "MyObjDetNet_trial.ipynb",
      "provenance": [],
      "collapsed_sections": []
    },
    "kernelspec": {
      "name": "python3",
      "display_name": "Python 3"
    },
    "language_info": {
      "name": "python"
    }
  },
  "cells": [
    {
      "cell_type": "code",
      "metadata": {
        "id": "9SOiCwECDYcD"
      },
      "source": [
        "#Dependencies\n",
        "#@title Import libraries\n",
        "import os\n",
        "import time\n",
        "import tqdm\n",
        "import torch\n",
        "import IPython\n",
        "import torchvision\n",
        "\n",
        "import numpy as np\n",
        "import matplotlib.pyplot as plt\n",
        "\n",
        "import torch.nn as nn\n",
        "import torch.nn.functional as F\n",
        "\n",
        "from torchvision import transforms\n",
        "from torchvision.models import AlexNet\n",
        "from torchvision.utils import make_grid\n",
        "from torchvision.datasets import ImageFolder\n",
        "\n",
        "from PIL import Image\n",
        "from io import BytesIO"
      ],
      "execution_count": null,
      "outputs": []
    },
    {
      "cell_type": "code",
      "metadata": {
        "id": "23fQxMH6FP3P"
      },
      "source": [
        "# title helper functions\n",
        "def extract_subimg(im, rot_center, width, height, theta=0):\n",
        "  rot_bbox = rotbbox_from_coords(rot_center, width, height, theta)\n",
        "\n",
        "  subimg = im[rot_bbox[0,1]:rot_bbox[1,1],rot_bbox[0,0]:rot_bbox[1,0]]\n",
        "  rotated_im = ndimage.rotate(subimg, np.degrees(theta)+180)\n",
        "  newcenter = (np.array(rotated_im.shape)/2).astype(np.int)\n",
        "  rotated_im = rotated_im[int(newcenter[0]-height/2):int(newcenter[0]+height/2), int(newcenter[1]-width/2):int(newcenter[1]+width/2), :3]  #drop alpha channel, if it's there\n",
        "\n",
        "  return rotated_im\n",
        "\n",
        "def extract_subimg_bbox(im, bbox):\n",
        "  return extract_subimg(im, *unpack_bbox(bbox))\n",
        "\n",
        "  rot_center = np.array((bbox[1], bbox[0])).T\n",
        "  width = bbox[3]\n",
        "  height = bbox[2]\n",
        "  # theta = -bbox[4]+np.pi/2 #radians --> to include for oriented bounding boxes\n",
        "  return rot_center, width, height\n",
        "  #, theta\n",
        "\n",
        "\n",
        "def rotcorners_from_coords(rot_center, width, height, theta=0):\n",
        "  rotation = np.array(( (np.cos(theta), -np.sin(theta)),\n",
        "               (np.sin(theta),  np.cos(theta)))) #--> for oriented bounding box\n",
        "\n",
        "  wvec = np.dot(rotation, (width/2, 0))\n",
        "  hvec = np.dot(rotation, (0, height/2))\n",
        "  \n",
        "  # There might be a problem\n",
        "  # corner_points = rot_center + [wvec+hvec, wvec-hvec, -wvec+hvec, -wvec-hvec] #error point\n",
        "  # corner_points = \n",
        "  return corner_points\n",
        "\n",
        "\n",
        "def rotbbox_from_coords(rot_center, width, height, theta=0):\n",
        "  corner_points = rotcorners_from_coords(rot_center, width, height, theta)\n",
        "  rot_bbox = np.array((corner_points.min(0), corner_points.max(0))).astype(np.int)\n",
        "  #constrain inside image\n",
        "  rot_bbox[rot_bbox < 0] = 0\n",
        "\n",
        "  return rot_bbox\n",
        "\n",
        "def unpack_bbox(bbox):\n",
        "  #bbox as in the json/COCO data format (centerx, centery, width, height, theta is in radians)\n",
        "  return bbox"
      ],
      "execution_count": null,
      "outputs": []
    },
    {
      "cell_type": "code",
      "metadata": {
        "id": "BKggdZ-bDpGz"
      },
      "source": [
        "#@title figure settings\n",
        "\n",
        "import ipywidgets as widgets       # interactive display\n",
        "%config InlineBackend.figure_format = 'retina'\n",
        "%matplotlib inline\n",
        "plt.style.use(\"https://raw.githubusercontent.com/NeuromatchAcademy/content-creation/main/nma.mplstyle\")\n",
        "\n",
        "plt.rcParams[\"mpl_toolkits.legacy_colorbar\"] = False\n",
        "import warnings\n",
        "warnings.filterwarnings(\"ignore\", category=UserWarning, module=\"matplotlib\")\n",
        "\n",
        "from matplotlib import pyplot as plt\n",
        "from matplotlib import rcParams, gridspec\n",
        "from matplotlib import patches, transforms as plt_transforms\n",
        "\n",
        "rcParams['figure.figsize'] = [16, 6]\n",
        "rcParams['font.size'] =14\n",
        "rcParams['axes.spines.top'] = False\n",
        "rcParams['axes.spines.right'] = False\n",
        "rcParams['figure.autolayout'] = True"
      ],
      "execution_count": null,
      "outputs": []
    },
    {
      "cell_type": "code",
      "metadata": {
        "id": "61b-kqgdEL9T"
      },
      "source": [
        "#@title set seed"
      ],
      "execution_count": null,
      "outputs": []
    },
    {
      "cell_type": "code",
      "metadata": {
        "id": "QfHyWAM7ENfk"
      },
      "source": [
        "#@title set device"
      ],
      "execution_count": null,
      "outputs": []
    },
    {
      "cell_type": "code",
      "metadata": {
        "id": "QCZWUQ2iXSA2"
      },
      "source": [
        "from google.colab import drive\n",
        "drive.mount('/content/gdrive')"
      ],
      "execution_count": null,
      "outputs": []
    },
    {
      "cell_type": "code",
      "metadata": {
        "id": "a3QwZXHrEoZI"
      },
      "source": [
        "#title downloading data\n",
        "\n",
        "# if not os.path.exists('train_images/'):\n",
        "#   os.mkdir('train_images/')\n",
        "\n",
        "#opening an image and displaying!\n",
        "# path = \"/content/gdrive/MyDrive/datasets/efficient_dota/train/images/P0000.png\"\n",
        "path = \"/content/gdrive/MyDrive/datasets/efficient_dota/train/P0000.png\"\n",
        "\n",
        "\n",
        "\n",
        "with open(path, 'rb') as my_img:\n",
        "\n",
        "  img = Image.open(my_img)\n",
        "  display(img)\n",
        "\n",
        "\n"
      ],
      "execution_count": null,
      "outputs": []
    },
    {
      "cell_type": "code",
      "metadata": {
        "colab": {
          "base_uri": "https://localhost:8080/"
        },
        "id": "OeRDTVp4VvxZ",
        "outputId": "feb4db53-ed56-4f8d-aa00-ea8f3fdba82c"
      },
      "source": [
        "# Working\n",
        "#Load the json file with the annotations\n",
        "\n",
        "import json\n",
        "\n",
        "# datapath = \"/content/gdrive/MyDrive/datasets/efficient_dota/train\"\n",
        "datapath = \"/content/gdrive/MyDrive/datasets/efficient_dota\"\n",
        "# with open(os.path.join(datapath, 'DOTA_1.0.json')) as f:\n",
        "with open(os.path.join(datapath, 'annotations/train.json')) as f:\n",
        "  data = json.load(f)\n",
        "\n",
        "print(data.keys())\n",
        "print(data['images'][1])\n",
        "print(data['annotations'][1])\n",
        "ann = data['annotations'][1]\n",
        "print(ann['bbox'][3])"
      ],
      "execution_count": null,
      "outputs": [
        {
          "output_type": "stream",
          "text": [
            "dict_keys(['info', 'images', 'categories', 'annotations'])\n",
            "{'file_name': 'P0593.png', 'id': 2, 'width': 1434, 'height': 883}\n",
            "{'area': 613.0, 'category_id': 6, 'segmentation': [[3445, 3391, 3484, 3409, 3478, 3422, 3437, 3402]], 'iscrowd': 0, 'bbox': [3437, 3391, 47, 31], 'image_id': 1, 'id': 2}\n",
            "31\n"
          ],
          "name": "stdout"
        }
      ]
    },
    {
      "cell_type": "code",
      "metadata": {
        "id": "nrT1s5r5YGAm"
      },
      "source": [
        "#note: ran for 4mins and yes, it's working!\n",
        "\n",
        "from skimage import io\n",
        "\n",
        "#Load the images, and make some helpful dict to map the data\n",
        "imgdir = os.path.join(datapath, 'train')\n",
        "\n",
        "#remap images to dict by id\n",
        "imgdict = {l['id']:l for l in data['images']}\n",
        "#read in all images, can take some time\n",
        "for i in imgdict.values():\n",
        "  i['image'] = io.imread(os.path.join(imgdir, i['file_name']))[:, :,: 3]  # drop alpha channel, if it's there\n",
        "\n",
        "# remap annotations to dict by image_id\n",
        "from collections import defaultdict\n",
        "annodict = defaultdict(list)\n",
        "for annotation in data['annotations']:\n",
        "  annodict[annotation['image_id']].append(annotation)\n",
        "\n",
        "# setup list of categories\n",
        "categories = data['categories']\n",
        "ncategories = len(categories)\n",
        "cat_ids = [i['id'] for i in categories]\n",
        "\n",
        "category_names = {1:'plane',2:'ship',3:'storage tank',4:'baseball diamond',\n",
        "                  5:'tennis court',6:'basketball court',7: 'ground track field',\n",
        "                  8:'harbor',9:'bridge',10:'large vehicle',11:'small vehicle',\n",
        "                  12:'helicopter',13:'roundabout',14:'soccer ball field',\n",
        "                  15:'swimming pool'}\n",
        "\n",
        "##Be carefull here\n"
      ],
      "execution_count": null,
      "outputs": []
    },
    {
      "cell_type": "code",
      "metadata": {
        "id": "4OPIjjSDcinT"
      },
      "source": [
        "# Let's look at one image and it's associated annotations\n",
        "\n",
        "imageid = 74 #<-- Change to show different image with bounding box\n",
        "im = imgdict[imageid]['image']\n",
        "\n",
        "#A grid layout to place subplots within a figure.\n",
        "gs = gridspec.GridSpec(1, 1 + len(annodict[imageid]),\n",
        "                       width_ratios=[1,]+[.1]*len(annodict[imageid]),\n",
        "                       wspace=.05)\n",
        "\n",
        "\n",
        "plt.figure()\n",
        "ax = plt.subplot(gs[0])\n",
        "plt.imshow(im)\n",
        "\n",
        "\n",
        "cmap_normal = plt.Normalize(0, ncategories)\n",
        "\n",
        "legendList = [,]\n",
        "\n",
        "for i, annotation in enumerate(annodict[imageid]):\n",
        "  bbox = annotation['bbox']\n",
        "\n",
        "  # plt.scatter(*rot_center)\n",
        "  # plt.scatter(*corner_points.T, c='r')\n",
        "\n",
        "  ax = plt.subplot(gs[0])\n",
        "  \n",
        "  color = plt.cm.jet(cmap_normal(annotation['category_id']))\n",
        "  # legendDic = {\n",
        "  #     color:\n",
        "  #     annotation['category_id']\n",
        "  # }\n",
        "\n",
        "  legendList.append(color,annotation['category_id'])\n",
        "\n",
        "  # print(legendDic)\n",
        "\n",
        "\n",
        "  \n",
        "  # ax.legend()\n",
        "  # print(annotation['category_id'])\n",
        "  # print(color)\n",
        "  #bbox mentioned as (a,b,c,d)\n",
        "  #Rectange(anchor point, width,height,angle)\n",
        "  # rect = patches.Rectangle([bbox[0] - bbox[2]/2 ,bbox[1] - bbox[3]/2], bbox[3], bbox[2],\n",
        "  #                          linewidth=1, edgecolor=color, facecolor='none')\n",
        "  # rect = patches.Rectangle([bbox[0] - bbox[2]/2 ,bbox[1] - bbox[3]/2], bbox[3], bbox[2],\n",
        "  #                         linewidth=1, edgecolor=color, facecolor='none')\n",
        "  \n",
        " #tugsad\n",
        "\n",
        "  rect=patches.Rectangle((bbox[0],bbox[1]),bbox[2],bbox[3],  linewidth=1, edgecolor=color, facecolor='none')\n",
        "  \n",
        "  # t = plt_transforms.Affine2D().rotate_around(bbox[1], bbox[0], -bbox[3]+np.pi/2) --> for rotations (Mostly even the helper functions)\n",
        "\n",
        "  # rect.set_transform(t + plt.gca().transData)\n",
        "  ax.add_patch(rect)\n",
        "  \n",
        "\n",
        "''' To get the subimage of one object from the overall image. some error while running helper functions '''\n",
        "  # plt.subplot(gs[i + 1])\n",
        "  # rotated_im = extract_subimg_bbox(im, bbox)\n",
        "  # plt.imshow(rotated_im)\n",
        "  # plt.axis('off')\n",
        "  # plt.title(annotation['category_id'])\n",
        "''' Error in plotting bounding boxes. logic of plotting to be checked '''\n",
        "#do not mention categories like this. mention it as a number near to the object and have a legend in the graph to say what that num means\n",
        "# plt.colorbar(ticks=range(ncategories), label='category')\n",
        "# plt.clim(-0.5, ncategories - .5)\n",
        "# plt.show()\n",
        "\n",
        "\n",
        "print(legendList)"
      ],
      "execution_count": null,
      "outputs": []
    },
    {
      "cell_type": "code",
      "metadata": {
        "id": "3l1UscIz1YLE"
      },
      "source": [
        ""
      ],
      "execution_count": null,
      "outputs": []
    }
  ]
}